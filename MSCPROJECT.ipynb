{
 "cells": [
  {
   "cell_type": "code",
   "execution_count": null,
   "metadata": {},
   "outputs": [],
   "source": [
    "import pandas as pd\n",
    "import matplotlib.pyplot as plt\n",
    "mpa = pd.read_csv('~/Downloads/mpa.csv') #Load File\n",
    "\n",
    "mpa.head()#View Top 5 Observations"
   ]
  },
  {
   "cell_type": "code",
   "execution_count": null,
   "metadata": {},
   "outputs": [],
   "source": [
    "mpa.shape #Total Rows and Columns"
   ]
  },
  {
   "cell_type": "code",
   "execution_count": null,
   "metadata": {},
   "outputs": [],
   "source": [
    "mpa.info() #Data Type"
   ]
  },
  {
   "cell_type": "code",
   "execution_count": null,
   "metadata": {},
   "outputs": [],
   "source": [
    "mpa.describe() #Statistical Summary"
   ]
  },
  {
   "cell_type": "code",
   "execution_count": null,
   "metadata": {},
   "outputs": [],
   "source": []
  },
  {
   "cell_type": "code",
   "execution_count": null,
   "metadata": {},
   "outputs": [],
   "source": [
    "#EXPLORATORY DATA ANALYSIS\n",
    "#Histogram for some independent variables\n",
    "bfsa = mpa[[ 'Cement', 'Water', 'Superplasticizer', 'CA', 'FA', 'Age']];\n",
    "bfsa.hist(figsize=(14,14) )\n",
    "plt.autoscale()"
   ]
  },
  {
   "cell_type": "code",
   "execution_count": null,
   "metadata": {},
   "outputs": [],
   "source": [
    "#Scatter Plot Relationship between Cement and Concrete compressive strength, Water and Cement  \n",
    "import matplotlib.pyplot as plt\n",
    "plt.figure(figsize=(14,5))\n",
    "plt.subplot(1,2,1)\n",
    "plt.scatter(mpa['Cement'], mpa['CCS'])\n",
    "plt.ylabel('CCS')\n",
    "plt.xlabel('Cement')\n",
    "#Shows strong and positive relationship\n",
    "plt.subplot(1,2,2)\n",
    "plt.scatter(mpa['Water'], mpa['CCS'])\n",
    "plt.ylabel('CCS')\n",
    "plt.xlabel('Water')\n",
    "\n",
    "plt.show()"
   ]
  },
  {
   "cell_type": "code",
   "execution_count": null,
   "metadata": {},
   "outputs": [],
   "source": [
    "#Scatter Plot Relationship between Coarse Aggregate and Fine Aggregate, Age and Concrete compressive strength.\n",
    "plt.figure(figsize=(14,5))\n",
    "plt.subplot(1,2,1)\n",
    "plt.scatter(mpa['CA'], mpa['FA'])\n",
    "plt.ylabel('FA')\n",
    "plt.xlabel('CA')\n",
    "\n",
    "\n",
    "plt.subplot(1,2,2)\n",
    "plt.scatter(mpa['Age'], mpa['CCS'])\n",
    "plt.ylabel('CCS')\n",
    "plt.xlabel('Age')\n",
    "\n",
    "plt.show()"
   ]
  },
  {
   "cell_type": "code",
   "execution_count": null,
   "metadata": {},
   "outputs": [],
   "source": [
    "import seaborn as sns\n",
    "sns.distplot(mpa['Age'], bins = 100) #Age Distribution\n",
    "plt.autoscale()"
   ]
  },
  {
   "cell_type": "code",
   "execution_count": null,
   "metadata": {},
   "outputs": [],
   "source": [
    "#Correlation Map\n",
    "corr = mpa.drop('CCS', axis=1).corr()\n",
    "plt.figure(figsize=(10,10))\n",
    "sns.heatmap(corr, vmax=1.0, square=True, annot=True, cmap='viridis')\n",
    "mpa.autolayout : True\n",
    "plt.title('CORRELATION BETWEEN FEATURES')\n",
    "\n",
    "plt.autoscale()\n",
    "display(corr)"
   ]
  },
  {
   "cell_type": "code",
   "execution_count": null,
   "metadata": {},
   "outputs": [],
   "source": [
    "#DATA PREPROCESSING\n",
    "print (mpa.isnull().sum()) #Check for missing values"
   ]
  },
  {
   "cell_type": "code",
   "execution_count": null,
   "metadata": {
    "scrolled": true
   },
   "outputs": [],
   "source": [
    "#Bin continuous data into HPCCS \n",
    "row_index1=mpa[(mpa['Age'] == 1) & (mpa['CCS']>10.4)].index\n",
    "mpa.loc[row_index1, 'HPCCS'] = \"Yes\"\n",
    "row_index1=mpa[(mpa['Age'] == 3) & (mpa['CCS']>=26)].index\n",
    "mpa.loc[row_index1, 'HPCCS'] = \"Yes\"\n",
    "row_index1=mpa[(mpa['Age'] == 7) & (mpa['CCS']>=42.25)].index\n",
    "mpa.loc[row_index1, 'HPCCS'] = \"Yes\"\n",
    "row_index1=mpa[(mpa['Age'] == 14) & (mpa['CCS']>=58.5)].index\n",
    "mpa.loc[row_index1, 'HPCCS'] = \"Yes\"\n",
    "row_index1=mpa[(mpa['Age'] == 28) & (mpa['CCS']>=63.7)].index\n",
    "mpa.loc[row_index1, 'HPCCS'] = \"Yes\"\n",
    "row_index1=mpa[(mpa['Age'] > 28) & (mpa['CCS']>=65)].index\n",
    "mpa.loc[row_index1, 'HPCCS'] = \"Yes\"\n",
    "#mpa.loc[mpa['Cat'] == 'nan', 'Cat'] = 0\n",
    "mpa['HPCCS'] = mpa['HPCCS'].fillna(\"No\")\n",
    "mpa.head()"
   ]
  },
  {
   "cell_type": "code",
   "execution_count": null,
   "metadata": {},
   "outputs": [],
   "source": [
    "mpa = mpa.drop(mpa.columns[8],axis=1)\n",
    "mpa.dtypes"
   ]
  },
  {
   "cell_type": "code",
   "execution_count": null,
   "metadata": {},
   "outputs": [],
   "source": [
    "X = mpa.iloc[:, 0:8].values\n",
    "Y = mpa.iloc[:, -1]"
   ]
  },
  {
   "cell_type": "code",
   "execution_count": null,
   "metadata": {},
   "outputs": [],
   "source": [
    "plot_sns = sns.countplot(Y, label='Total')\n",
    "Yes, No = Y.value_counts()\n",
    "plt.title('HPC COMPRESSIVE STRENGTH')"
   ]
  },
  {
   "cell_type": "code",
   "execution_count": null,
   "metadata": {},
   "outputs": [],
   "source": [
    "fig, ax=plt.subplots(figsize=(18,10))\n",
    "plt.subplot(2,3,1)\n",
    "sns.countplot(x='Age', data=mpa, hue='HPCCS')\n",
    "plt.title(\"Impact of Age on HPC Compressive Strength\")\n",
    "plt.show()\n",
    "\n",
    "fig, ax=plt.subplots(figsize=(18,10))\n",
    "plt.autoscale()\n",
    "plt.subplot(2,3,2)\n",
    "sns.countplot(x='Cement', data=mpa, hue='HPCCS')\n",
    "ax.set_ylim(0,1)\n",
    "plt.title(\"Impact of Cement on HPC Compressive Strength\")\n",
    "\n",
    "\n",
    "plt.show()"
   ]
  },
  {
   "cell_type": "code",
   "execution_count": null,
   "metadata": {},
   "outputs": [],
   "source": [
    "#HIGH DATA IMBALANCE. \n",
    "#SMOTE\n",
    "from imblearn.over_sampling import SMOTE\n",
    "sm = SMOTE(random_state=42)\n",
    "X_res, y_res=sm.fit_sample(X,Y)\n",
    "X_res.shape, y_res.shape\n"
   ]
  },
  {
   "cell_type": "code",
   "execution_count": null,
   "metadata": {},
   "outputs": [],
   "source": [
    "from collections import Counter\n",
    "print('Original dataset shape{}'.format(Counter(Y)))\n",
    "print('Resampled dataset shape{}'.format(Counter(y_res)))"
   ]
  },
  {
   "cell_type": "code",
   "execution_count": null,
   "metadata": {},
   "outputs": [],
   "source": [
    "#VIEW BALANCED SAMPLE\n",
    "sns.countplot(y_res, label='Total')\n",
    "Yes, No = Y.value_counts()\n",
    "plt.title('HPC COMPRESSIVE STRENGTH')\n",
    "print('No: ',Yes)\n",
    "print('Yes : ',No)"
   ]
  },
  {
   "cell_type": "code",
   "execution_count": null,
   "metadata": {},
   "outputs": [],
   "source": []
  },
  {
   "cell_type": "code",
   "execution_count": null,
   "metadata": {},
   "outputs": [],
   "source": [
    "from sklearn.model_selection import train_test_split\n",
    "from sklearn import metrics\n",
    "from sklearn.metrics import accuracy_score\n",
    "from sklearn.metrics import roc_auc_score"
   ]
  },
  {
   "cell_type": "code",
   "execution_count": null,
   "metadata": {},
   "outputs": [],
   "source": [
    "# Split your data into training and test set for the BALANCED SAMPLE\n",
    "X_res_train, X_res_test, y_res_train, y_res_test = train_test_split(X_res, y_res, test_size=0.3, random_state=0)\n",
    "\n",
    "# Split your data into training and test set for the UNBALANCED SAMPLE\n",
    "X_train, X_test, Y_train, Y_test = train_test_split(X, Y, test_size=0.3, random_state=0)"
   ]
  },
  {
   "cell_type": "code",
   "execution_count": null,
   "metadata": {},
   "outputs": [],
   "source": []
  },
  {
   "cell_type": "code",
   "execution_count": null,
   "metadata": {},
   "outputs": [],
   "source": [
    "#LOGISTIC REGRESSION\n",
    "#BALANCED SAMPLE\n",
    "from sklearn.linear_model import LogisticRegression\n",
    "logmodel=LogisticRegression()\n",
    "logmodel.fit(X_res_train, y_res_train)\n",
    "predicted = logmodel.predict(X_res_test)\n",
    "print(f'Accuracy Score:\\n{accuracy_score(y_res_test, predicted)}')\n",
    "#AUC\n",
    "probs = logmodel.predict_proba(X_res)\n",
    "preds = probs[:,-1]\n",
    "fpr, tpr, threshold = metrics.roc_curve(y_res, preds, pos_label = 'Yes')\n",
    "roc_auc = metrics.auc(fpr, tpr)\n",
    "print('AUC: \\n%.4f' % roc_auc)"
   ]
  },
  {
   "cell_type": "code",
   "execution_count": null,
   "metadata": {},
   "outputs": [],
   "source": [
    "#IMBALANCED SAMPLE\n",
    "logmodel=LogisticRegression()\n",
    "logmodel.fit(X_train, Y_train)\n",
    "predicted = logmodel.predict(X_test)\n",
    "print(f'Accuracy Score:\\n{accuracy_score(Y_test, predicted)}')\n",
    "probs = logmodel.predict_proba(X)\n",
    "preds = probs[:,-1]\n",
    "fpr, tpr, threshold = metrics.roc_curve(Y, preds, pos_label = 'Yes')\n",
    "roc_auc = metrics.auc(fpr, tpr)\n",
    "print('AUC: \\n%.4f' % roc_auc)"
   ]
  },
  {
   "cell_type": "code",
   "execution_count": null,
   "metadata": {},
   "outputs": [],
   "source": []
  },
  {
   "cell_type": "code",
   "execution_count": null,
   "metadata": {},
   "outputs": [],
   "source": [
    "#RANDOM FOREST\n",
    "#BALANCED SAMPLE\n",
    "from sklearn.ensemble import RandomForestClassifier\n",
    "model = RandomForestClassifier(random_state=0)\n",
    "model.fit(X_res_train, y_res_train)\n",
    "predicted = model.predict(X_res_test)\n",
    "print(f'Accuracy Score:\\n{accuracy_score(y_res_test, predicted)}')\n",
    "probs = model.predict_proba(X_res)\n",
    "preds = probs[:,-1]\n",
    "fpr, tpr, threshold = metrics.roc_curve(y_res, preds, pos_label = 'Yes')\n",
    "roc_auc = metrics.auc(fpr, tpr)\n",
    "print('AUC: \\n%.4f' % roc_auc)"
   ]
  },
  {
   "cell_type": "code",
   "execution_count": null,
   "metadata": {},
   "outputs": [],
   "source": [
    "#IMBALANCED SAMPLE\n",
    "#RANDOM FOREST\n",
    "from sklearn.ensemble import RandomForestClassifier\n",
    "model = RandomForestClassifier(random_state=0)\n",
    "model.fit(X_train, Y_train)\n",
    "predicted = model.predict(X_test)\n",
    "print(f'Accuracy Score:\\n{accuracy_score(Y_test, predicted)}')\n",
    "probs = model.predict_proba(X)\n",
    "preds = probs[:,-1]\n",
    "fpr, tpr, threshold = metrics.roc_curve(Y, preds, pos_label = 'Yes')\n",
    "roc_auc = metrics.auc(fpr, tpr)\n",
    "print('AUC: \\n%.4f' % roc_auc)"
   ]
  },
  {
   "cell_type": "code",
   "execution_count": null,
   "metadata": {},
   "outputs": [],
   "source": []
  },
  {
   "cell_type": "code",
   "execution_count": null,
   "metadata": {},
   "outputs": [],
   "source": [
    "#ADABOOST\n",
    "#BALANCED SAMPLE\n",
    "from sklearn.ensemble import AdaBoostClassifier\n",
    "classifier = AdaBoostClassifier()\n",
    "classifier.fit(X_res_train, y_res_train)\n",
    "predicted = classifier.predict(X_res_test)\n",
    "print(f'Accuracy Score:\\n{accuracy_score(y_res_test, predicted)}')\n",
    "probs = classifier.predict_proba(X_res)\n",
    "preds = probs[:,-1]\n",
    "fpr, tpr, threshold = metrics.roc_curve(y_res, preds, pos_label = 'Yes')\n",
    "roc_auc = metrics.auc(fpr, tpr)\n",
    "print('AUC: \\n%.4f' % roc_auc)"
   ]
  },
  {
   "cell_type": "code",
   "execution_count": null,
   "metadata": {},
   "outputs": [],
   "source": [
    "#IMBALANCED SAMPLE\n",
    "classifier = AdaBoostClassifier()\n",
    "classifier.fit(X_train, Y_train)\n",
    "predicted = classifier.predict(X_test)\n",
    "print(f'Accuracy Score:\\n{accuracy_score(Y_test, predicted)}')\n",
    "probs = model.predict_proba(X)\n",
    "preds = probs[:,-1]\n",
    "fpr, tpr, threshold = metrics.roc_curve(Y, preds, pos_label = 'Yes')\n",
    "roc_auc = metrics.auc(fpr, tpr)\n",
    "print('AUC: \\n%.4f' % roc_auc)"
   ]
  },
  {
   "cell_type": "code",
   "execution_count": null,
   "metadata": {},
   "outputs": [],
   "source": []
  },
  {
   "cell_type": "code",
   "execution_count": null,
   "metadata": {},
   "outputs": [],
   "source": [
    "#DECISION TREE  \n",
    "#BALANCED SAMPLE\n",
    "from sklearn.tree import DecisionTreeClassifier\n",
    "runmodel = DecisionTreeClassifier()\n",
    "runmodel.fit(X_res_train, y_res_train)\n",
    "predicted = runmodel.predict(X_res_test)\n",
    "print(f'Accuracy Score:\\n{accuracy_score(y_res_test, predicted)}')\n",
    "probs = runmodel.predict_proba(X_res)\n",
    "preds = probs[:,-1]\n",
    "fpr, tpr, threshold = metrics.roc_curve(y_res, preds, pos_label = 'Yes')\n",
    "roc_auc = metrics.auc(fpr, tpr)\n",
    "print('AUC: \\n%.4f' % roc_auc)"
   ]
  },
  {
   "cell_type": "code",
   "execution_count": null,
   "metadata": {},
   "outputs": [],
   "source": [
    "#IMBALANCED SAMPLE\n",
    "runmodel = DecisionTreeClassifier()\n",
    "runmodel.fit(X_train, Y_train)\n",
    "predicted = runmodel.predict(X_test)\n",
    "print(f'Accuracy Score:\\n{accuracy_score(Y_test, predicted)}')\n",
    "probs = runmodel.predict_proba(X)\n",
    "preds = probs[:,-1]\n",
    "fpr, tpr, threshold = metrics.roc_curve(Y, preds, pos_label = 'Yes')\n",
    "roc_auc = metrics.auc(fpr, tpr)\n",
    "print('AUC: \\n%.4f' % roc_auc)"
   ]
  },
  {
   "cell_type": "code",
   "execution_count": null,
   "metadata": {},
   "outputs": [],
   "source": []
  },
  {
   "cell_type": "code",
   "execution_count": null,
   "metadata": {},
   "outputs": [],
   "source": [
    "#GRADIENT BOOST\n",
    "#BALANCED SAMPLE\n",
    "from sklearn.ensemble import GradientBoostingClassifier\n",
    "gbmodel = GradientBoostingClassifier()\n",
    "gbmodel.fit(X_res_train, y_res_train)\n",
    "predicted = gbmodel.predict(X_res_test)\n",
    "print(f'Accuracy Score:\\n{accuracy_score(y_res_test, predicted)}')\n",
    "probs = gbmodel.predict_proba(X_res)\n",
    "preds = probs[:,-1]\n",
    "fpr, tpr, threshold = metrics.roc_curve(y_res, preds, pos_label = 'Yes')\n",
    "roc_auc = metrics.auc(fpr, tpr)\n",
    "print('AUC: \\n%.4f' % roc_auc)"
   ]
  },
  {
   "cell_type": "code",
   "execution_count": null,
   "metadata": {},
   "outputs": [],
   "source": [
    "#IMBALANCED SAMPLE\n",
    "gbmodel = GradientBoostingClassifier()\n",
    "gbmodel.fit(X_train, Y_train)\n",
    "predicted = gbmodel.predict(X_test)\n",
    "print(f'Accuracy Score:\\n{accuracy_score(Y_test, predicted)}')\n",
    "probs = gbmodel.predict_proba(X)\n",
    "preds = probs[:,-1]\n",
    "fpr, tpr, threshold = metrics.roc_curve(Y, preds, pos_label = 'Yes')\n",
    "roc_auc = metrics.auc(fpr, tpr)\n",
    "roc_auc\n",
    "print('AUC: \\n%.4f' % roc_auc)"
   ]
  },
  {
   "cell_type": "code",
   "execution_count": null,
   "metadata": {},
   "outputs": [],
   "source": []
  },
  {
   "cell_type": "code",
   "execution_count": null,
   "metadata": {},
   "outputs": [],
   "source": [
    "#XGBOOST\n",
    "#BALANCED SAMPLE\n",
    "from sklearn.model_selection import RandomizedSearchCV\n",
    "import xgboost\n",
    "xgclassifier=xgboost.XGBClassifier()"
   ]
  },
  {
   "cell_type": "code",
   "execution_count": null,
   "metadata": {},
   "outputs": [],
   "source": [
    "#Hyper parameter optimisation\n",
    "\n",
    "params={\n",
    "    \"learning_rate\": [0.05, 0.10, 0.15, 0.20, 0.25, 0.30],\n",
    "    \"max_depth\": [3, 4, 5, 6, 8, 10, 12, 15],\n",
    "    \"min_child_weight\": [1, 3, 5, 7],\n",
    "    \"gamma\": [0.0, 0.1, 0.2, 0.3, 0.4],\n",
    "    \"colsample_bytree\": [0.3, 0.4, 0.5, 0.7]\n",
    "}"
   ]
  },
  {
   "cell_type": "code",
   "execution_count": null,
   "metadata": {},
   "outputs": [],
   "source": [
    "random_search=RandomizedSearchCV(xgclassifier,param_distributions=params,n_iter=5,scoring='roc_auc',n_jobs=-1,cv=10,verbose=3)"
   ]
  },
  {
   "cell_type": "code",
   "execution_count": null,
   "metadata": {},
   "outputs": [],
   "source": [
    "random_search.fit(X_res_train, y_res_train)"
   ]
  },
  {
   "cell_type": "code",
   "execution_count": null,
   "metadata": {},
   "outputs": [],
   "source": [
    "random_search.best_estimator_"
   ]
  },
  {
   "cell_type": "code",
   "execution_count": null,
   "metadata": {},
   "outputs": [],
   "source": [
    "xgclassifier=xgboost.XGBClassifier(base_score=0.5, booster='gbtree', colsample_bylevel=1,\n",
    "              colsample_bynode=1, colsample_bytree=0.4, gamma=0.4,\n",
    "              learning_rate=0.15, max_delta_step=0, max_depth=12,\n",
    "              min_child_weight=1, missing=None, n_estimators=100, n_jobs=1,\n",
    "              nthread=None, objective='binary:logistic', random_state=0,\n",
    "              reg_alpha=0, reg_lambda=1, scale_pos_weight=1, seed=None,\n",
    "              silent=None, subsample=1, verbosity=1)"
   ]
  },
  {
   "cell_type": "code",
   "execution_count": null,
   "metadata": {
    "scrolled": true
   },
   "outputs": [],
   "source": [
    "xgclassifier.fit(X_res_train, y_res_train)\n",
    "predicted = xgclassifier.predict(X_res_test)\n",
    "print(f'Accuracy Score:\\n{accuracy_score(y_res_test, predicted)}')\n",
    "probs = xgclassifier.predict_proba(X_res)\n",
    "preds = probs[:,-1]\n",
    "fpr, tpr, threshold = metrics.roc_curve(y_res, preds, pos_label = 'Yes')\n",
    "roc_auc = metrics.auc(fpr, tpr)\n",
    "print('AUC: \\n%.4f' % roc_auc)"
   ]
  },
  {
   "cell_type": "code",
   "execution_count": null,
   "metadata": {},
   "outputs": [],
   "source": [
    "#IMBALANCED\n",
    "random_search.fit(X_train, Y_train)"
   ]
  },
  {
   "cell_type": "code",
   "execution_count": null,
   "metadata": {},
   "outputs": [],
   "source": [
    "random_search.best_estimator_"
   ]
  },
  {
   "cell_type": "code",
   "execution_count": null,
   "metadata": {},
   "outputs": [],
   "source": [
    "xgclassifier=xgboost.XGBClassifier(base_score=0.5, booster='gbtree', colsample_bylevel=1,\n",
    "              colsample_bynode=1, colsample_bytree=0.7, gamma=0.3,\n",
    "              learning_rate=0.1, max_delta_step=0, max_depth=10,\n",
    "              min_child_weight=1, missing=None, n_estimators=100, n_jobs=1,\n",
    "              nthread=None, objective='binary:logistic', random_state=0,\n",
    "              reg_alpha=0, reg_lambda=1, scale_pos_weight=1, seed=None,\n",
    "              silent=None, subsample=1, verbosity=1)"
   ]
  },
  {
   "cell_type": "code",
   "execution_count": null,
   "metadata": {},
   "outputs": [],
   "source": [
    "xgclassifier.fit(X_train, Y_train)\n",
    "predicted = xgclassifier.predict(X_test)\n",
    "print(f'Accuracy Score:\\n{accuracy_score(Y_test, predicted)}')\n",
    "probs = xgclassifier.predict_proba(X)\n",
    "preds = probs[:,-1]\n",
    "fpr, tpr, threshold = metrics.roc_curve(Y, preds, pos_label = 'Yes')\n",
    "roc_auc = metrics.auc(fpr, tpr)\n",
    "print('AUC: \\n%.4f' % roc_auc)"
   ]
  },
  {
   "cell_type": "code",
   "execution_count": null,
   "metadata": {},
   "outputs": [],
   "source": []
  },
  {
   "cell_type": "code",
   "execution_count": null,
   "metadata": {},
   "outputs": [],
   "source": [
    "#TREE BASED FEATURE SELECTION"
   ]
  },
  {
   "cell_type": "code",
   "execution_count": null,
   "metadata": {},
   "outputs": [],
   "source": [
    "rf = RandomForestClassifier(n_jobs=-1, random_state=0)\n",
    "rf.fit(X_train, Y_train)\n",
    "feat_imp = rf.feature_importances_"
   ]
  },
  {
   "cell_type": "code",
   "execution_count": null,
   "metadata": {},
   "outputs": [],
   "source": [
    "feat_imp"
   ]
  },
  {
   "cell_type": "code",
   "execution_count": null,
   "metadata": {},
   "outputs": [],
   "source": []
  }
 ],
 "metadata": {
  "kernelspec": {
   "display_name": "Python 3",
   "language": "python",
   "name": "python3"
  },
  "language_info": {
   "codemirror_mode": {
    "name": "ipython",
    "version": 3
   },
   "file_extension": ".py",
   "mimetype": "text/x-python",
   "name": "python",
   "nbconvert_exporter": "python",
   "pygments_lexer": "ipython3",
   "version": "3.7.4"
  }
 },
 "nbformat": 4,
 "nbformat_minor": 2
}
